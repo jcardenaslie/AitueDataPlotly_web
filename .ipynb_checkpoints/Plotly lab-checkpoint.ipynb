{
 "cells": [
  {
   "cell_type": "code",
   "execution_count": 2,
   "metadata": {},
   "outputs": [],
   "source": [
    "import pandas as pd\n",
    "import numpy as np\n",
    "import seaborn as sns\n",
    "\n",
    "import plotly.plotly as py\n",
    "import plotly.tools as tls"
   ]
  },
  {
   "cell_type": "code",
   "execution_count": 6,
   "metadata": {},
   "outputs": [],
   "source": [
    "cot_all = pd.read_excel(\"Data/cotizaciones_all.xlsx\")\n",
    "cot_all_plus = pd.read_excel(\"Data/Cotizaciones20181009.xlsx\")\n",
    "prod_all_plus = pd.read_excel(\"Data/Productos.xlsx\")\n",
    "neg_all = pd.read_excel(\"Data/negocios_all.xlsx\")"
   ]
  },
  {
   "cell_type": "code",
   "execution_count": 3,
   "metadata": {},
   "outputs": [],
   "source": [
    "py.sign_in(api_key='LFYL2kuLbBMQmvBzhdYy', username='japinoza')"
   ]
  },
  {
   "cell_type": "code",
   "execution_count": 7,
   "metadata": {},
   "outputs": [
    {
     "data": {
      "text/plain": [
       "Index(['ID', 'Fecha Cotizacion', 'Medio', 'Tipo de Medio', 'Proyecto', 'Etapa',\n",
       "       'Productos', 'Presencial', 'Remoto', 'Jefe Comercial',\n",
       "       'Ejecutivo Comercial', 'Total Productos', 'Descuentos',\n",
       "       'Valor Final Venta', 'RUT', 'Nombre', 'Apellido 1', 'Apellido 2',\n",
       "       'Nombre Completo', 'Telefono', 'Celular', 'Direccion', 'Region',\n",
       "       'Provincia', 'Comuna', 'Correo Electronico', 'Sexo', 'Estado Civil',\n",
       "       'Rango Edad', 'Fecha Nacimiento', 'Tipo Cliente', 'Razon Social',\n",
       "       'Giro', 'Nacionalidad', 'N° Grupo Familiar', 'Actividad', 'Cargo',\n",
       "       'Situacion Laboral', 'Empleador', 'Antiguedad Laboral', 'Profesión'],\n",
       "      dtype='object')"
      ]
     },
     "execution_count": 7,
     "metadata": {},
     "output_type": "execute_result"
    }
   ],
   "source": [
    "cot_all.columns"
   ]
  },
  {
   "cell_type": "code",
   "execution_count": 9,
   "metadata": {},
   "outputs": [
    {
     "data": {
      "text/plain": [
       "Index(['ID', 'Fecha Cotizacion', 'ID Cotizacion', 'Medio', 'Tipo de Medio',\n",
       "       'Proyecto', 'Etapa', 'Productos', 'Jefe Comercial',\n",
       "       'Ejecutivo Comercial', 'Total Productos', 'Descuentos',\n",
       "       'Valor Final Venta', 'Estado', 'Estado Comercial', 'Fecha Promesa',\n",
       "       'Fecha Escritura', 'Fecha Desistimiento', 'Fecha Resciliacion',\n",
       "       'Motivo Desis/Resc', 'Description Desis/Resc',\n",
       "       'Resciliacion por Modificacion', 'RUT', 'Nombre', 'Apellido 1',\n",
       "       'Apellido 2', 'Nombre Completo', 'Telefono', 'Celular', 'Direccion',\n",
       "       'Region', 'Provincia', 'Comuna', 'Correo Electronico', 'Sexo',\n",
       "       'Estado Civil', 'Rango Edad', 'Fecha Nacimiento', 'Tipo Cliente',\n",
       "       'Razon Social', 'Giro', 'Nacionalidad', 'N° Grupo Familiar',\n",
       "       'Actividad', 'Cargo', 'Situacion Laboral', 'Empleador',\n",
       "       'Antiguedad Laboral', 'Profesión'],\n",
       "      dtype='object')"
      ]
     },
     "execution_count": 9,
     "metadata": {},
     "output_type": "execute_result"
    }
   ],
   "source": [
    "neg_all.columns"
   ]
  },
  {
   "cell_type": "code",
   "execution_count": 114,
   "metadata": {
    "scrolled": true
   },
   "outputs": [],
   "source": [
    "x = cot_all['Total Productos'].dropna()\n",
    "z = neg_all['Total Productos'].dropna()\n",
    "y = neg_all[(neg_all['Estado'] == 'Escriturado') | (neg_all['Estado'] == 'Entregado')]['Total Productos'].dropna()"
   ]
  },
  {
   "cell_type": "code",
   "execution_count": 108,
   "metadata": {
    "scrolled": true
   },
   "outputs": [
    {
     "data": {
      "text/plain": [
       "count      291.000000\n",
       "mean      4955.870344\n",
       "std       2953.431134\n",
       "min       2896.000000\n",
       "25%       3880.000000\n",
       "50%       4200.000000\n",
       "75%       4548.000000\n",
       "max      21390.000000\n",
       "Name: Total Productos, dtype: float64"
      ]
     },
     "execution_count": 108,
     "metadata": {},
     "output_type": "execute_result"
    }
   ],
   "source": [
    "y.describe()"
   ]
  },
  {
   "cell_type": "code",
   "execution_count": 110,
   "metadata": {},
   "outputs": [
    {
     "data": {
      "text/plain": [
       "<matplotlib.axes._subplots.AxesSubplot at 0x1eaa622b400>"
      ]
     },
     "execution_count": 110,
     "metadata": {},
     "output_type": "execute_result"
    },
    {
     "data": {
      "image/png": "[encoded data removed]",
      "text/plain": [
       "<matplotlib.figure.Figure at 0x1eaa6dfbb00>"
      ]
     },
     "metadata": {},
     "output_type": "display_data"
    }
   ],
   "source": [
    "# x.hist(bins=100)\n",
    "z.hist(bins=1000)\n",
    "# y.hist(bins=100)\n"
   ]
  },
  {
   "cell_type": "code",
   "execution_count": 123,
   "metadata": {},
   "outputs": [
    {
     "data": {
      "text/html": [
       "<iframe id=\"igraph\" scrolling=\"no\" style=\"border:none;\" seamless=\"seamless\" src=\"https://plot.ly/~japinoza/35.embed\" height=\"525px\" width=\"100%\"></iframe>"
      ],
      "text/plain": [
       "<plotly.tools.PlotlyDisplay object>"
      ]
     },
     "execution_count": 123,
     "metadata": {},
     "output_type": "execute_result"
    }
   ],
   "source": [
    "x = cot_all['Total Productos'].dropna()\n",
    "z = neg_all['Total Productos'].dropna()\n",
    "y = neg_all[(neg_all['Estado'] == 'Escriturado') | (neg_all['Estado'] == 'Entregado')]['Total Productos'].dropna()\n",
    "\n",
    "data = []\n",
    "\n",
    "\n",
    "trace = {\n",
    "        \"type\": 'violin',\n",
    "#         \"x\": 'Cotizaciones',\n",
    "        \"y\": x,\n",
    "        \"name\": 'Cotizaciones',\n",
    "        \"box\": {\n",
    "            \"visible\": True\n",
    "        },\n",
    "        \"meanline\": {\n",
    "            \"visible\": True\n",
    "        }\n",
    "        }\n",
    "data.append(trace)\n",
    "\n",
    "trace = {\n",
    "        \"type\": 'violin',\n",
    "#         \"x\": 'Cotizaciones',\n",
    "        \"y\": y,\n",
    "        \"name\": 'Negocios',\n",
    "        \"box\": {\n",
    "            \"visible\": True\n",
    "        },\n",
    "        \"meanline\": {\n",
    "            \"visible\": True\n",
    "        }\n",
    "        }\n",
    "data.append(trace)\n",
    "\n",
    "trace = {\n",
    "        \"type\": 'violin',\n",
    "#         \"x\": 'Cotizaciones',\n",
    "        \"y\": y,\n",
    "        \"name\": 'Ventas',\n",
    "        \"box\": {\n",
    "            \"visible\": True\n",
    "        },\n",
    "        \"meanline\": {\n",
    "            \"visible\": True\n",
    "        }\n",
    "        }\n",
    "data.append(trace)\n",
    "fig = {\n",
    "    \"data\": data,\n",
    "    \"layout\" : {\n",
    "        \"title\": \"\",\n",
    "        \"yaxis\": {\n",
    "            \"zeroline\": False,\n",
    "        }\n",
    "    }\n",
    "}\n",
    "\n",
    "\n",
    "py.iplot(fig, filename='multiple')"
   ]
  },
  {
   "cell_type": "code",
   "execution_count": 238,
   "metadata": {},
   "outputs": [],
   "source": [
    "import copy\n",
    "fechas = copy.deepcopy(neg_all)"
   ]
  },
  {
   "cell_type": "code",
   "execution_count": 239,
   "metadata": {},
   "outputs": [
    {
     "data": {
      "text/plain": [
       "Index(['ID', 'Fecha Cotizacion', 'ID Cotizacion', 'Medio', 'Tipo de Medio',\n",
       "       'Proyecto', 'Etapa', 'Productos', 'Jefe Comercial',\n",
       "       'Ejecutivo Comercial', 'Total Productos', 'Descuentos',\n",
       "       'Valor Final Venta', 'Estado', 'Estado Comercial', 'Fecha Promesa',\n",
       "       'Fecha Escritura', 'Fecha Desistimiento', 'Fecha Resciliacion',\n",
       "       'Motivo Desis/Resc', 'Description Desis/Resc',\n",
       "       'Resciliacion por Modificacion', 'RUT', 'Nombre', 'Apellido 1',\n",
       "       'Apellido 2', 'Nombre Completo', 'Telefono', 'Celular', 'Direccion',\n",
       "       'Region', 'Provincia', 'Comuna', 'Correo Electronico', 'Sexo',\n",
       "       'Estado Civil', 'Rango Edad', 'Fecha Nacimiento', 'Tipo Cliente',\n",
       "       'Razon Social', 'Giro', 'Nacionalidad', 'N° Grupo Familiar',\n",
       "       'Actividad', 'Cargo', 'Situacion Laboral', 'Empleador',\n",
       "       'Antiguedad Laboral', 'Profesión'],\n",
       "      dtype='object')"
      ]
     },
     "execution_count": 239,
     "metadata": {},
     "output_type": "execute_result"
    }
   ],
   "source": [
    "fechas.columns"
   ]
  },
  {
   "cell_type": "code",
   "execution_count": 240,
   "metadata": {},
   "outputs": [
    {
     "data": {
      "text/plain": [
       "DatetimeIndex(['2017-07-27 15:46:58.750000', '2017-07-29 13:42:09.993000',\n",
       "               '2017-07-31 11:02:25.760000', '2017-08-11 16:07:40.227000',\n",
       "               '2017-08-11 16:13:46.600000', '2017-08-11 16:50:55.453000',\n",
       "               '2017-08-11 17:56:07.520000', '2017-08-11 18:13:32.780000',\n",
       "               '2017-08-11 18:16:13.900000', '2017-08-11 18:19:43.533000',\n",
       "               ...\n",
       "               '2018-04-24 13:17:33.180000', '2018-04-26 16:10:18.067000',\n",
       "               '2018-04-26 16:50:07.440000', '2018-04-27 16:42:10.457000',\n",
       "               '2018-04-28 09:22:03.600000', '2018-05-11 12:06:57.947000',\n",
       "               '2018-05-14 13:43:41.010000', '2018-05-14 17:49:18.737000',\n",
       "               '2018-05-20 18:08:53.613000', '2018-05-20 18:10:29.167000'],\n",
       "              dtype='datetime64[ns]', name='Fecha Cotizacion', length=2347, freq=None)"
      ]
     },
     "execution_count": 240,
     "metadata": {},
     "output_type": "execute_result"
    }
   ],
   "source": [
    "fechas.set_index(pd.to_datetime(fechas['Fecha Cotizacion']), inplace=True)\n",
    "fechas.index"
   ]
  },
  {
   "cell_type": "code",
   "execution_count": 241,
   "metadata": {},
   "outputs": [
    {
     "data": {
      "text/html": [
       "<div>\n",
       "<style>\n",
       "    .dataframe thead tr:only-child th {\n",
       "        text-align: right;\n",
       "    }\n",
       "\n",
       "    .dataframe thead th {\n",
       "        text-align: left;\n",
       "    }\n",
       "\n",
       "    .dataframe tbody tr th {\n",
       "        vertical-align: top;\n",
       "    }\n",
       "</style>\n",
       "<table border=\"1\" class=\"dataframe\">\n",
       "  <thead>\n",
       "    <tr style=\"text-align: right;\">\n",
       "      <th></th>\n",
       "      <th>ID</th>\n",
       "      <th>Fecha Cotizacion</th>\n",
       "      <th>ID Cotizacion</th>\n",
       "      <th>Medio</th>\n",
       "      <th>Tipo de Medio</th>\n",
       "      <th>Proyecto</th>\n",
       "      <th>Etapa</th>\n",
       "      <th>Productos</th>\n",
       "      <th>Jefe Comercial</th>\n",
       "      <th>Ejecutivo Comercial</th>\n",
       "      <th>...</th>\n",
       "      <th>Razon Social</th>\n",
       "      <th>Giro</th>\n",
       "      <th>Nacionalidad</th>\n",
       "      <th>N° Grupo Familiar</th>\n",
       "      <th>Actividad</th>\n",
       "      <th>Cargo</th>\n",
       "      <th>Situacion Laboral</th>\n",
       "      <th>Empleador</th>\n",
       "      <th>Antiguedad Laboral</th>\n",
       "      <th>Profesión</th>\n",
       "    </tr>\n",
       "    <tr>\n",
       "      <th>Fecha Cotizacion</th>\n",
       "      <th></th>\n",
       "      <th></th>\n",
       "      <th></th>\n",
       "      <th></th>\n",
       "      <th></th>\n",
       "      <th></th>\n",
       "      <th></th>\n",
       "      <th></th>\n",
       "      <th></th>\n",
       "      <th></th>\n",
       "      <th></th>\n",
       "      <th></th>\n",
       "      <th></th>\n",
       "      <th></th>\n",
       "      <th></th>\n",
       "      <th></th>\n",
       "      <th></th>\n",
       "      <th></th>\n",
       "      <th></th>\n",
       "      <th></th>\n",
       "      <th></th>\n",
       "    </tr>\n",
       "  </thead>\n",
       "  <tbody>\n",
       "    <tr>\n",
       "      <th>2017-07-27 15:46:58.750</th>\n",
       "      <td>42212</td>\n",
       "      <td>2017-07-27 15:46:58.750</td>\n",
       "      <td>111502</td>\n",
       "      <td>RECORRIDO POR EL SECTOR</td>\n",
       "      <td>Paseo</td>\n",
       "      <td>Altos del Valle</td>\n",
       "      <td>ADV - Etapa 1</td>\n",
       "      <td>TB-104,Est-65</td>\n",
       "      <td>Alejandra Pooley Flores</td>\n",
       "      <td>Graciela Pareja Cancino</td>\n",
       "      <td>...</td>\n",
       "      <td>NaN</td>\n",
       "      <td>NaN</td>\n",
       "      <td>NaN</td>\n",
       "      <td>3</td>\n",
       "      <td>Tecnico</td>\n",
       "      <td>NaN</td>\n",
       "      <td>NaN</td>\n",
       "      <td>NaN</td>\n",
       "      <td>0.0</td>\n",
       "      <td>NaN</td>\n",
       "    </tr>\n",
       "    <tr>\n",
       "      <th>2017-07-29 13:42:09.993</th>\n",
       "      <td>42242</td>\n",
       "      <td>2017-07-29 13:42:09.993</td>\n",
       "      <td>111611</td>\n",
       "      <td>RECONTACTO</td>\n",
       "      <td>Recontacto</td>\n",
       "      <td>Altos del Valle</td>\n",
       "      <td>ADV - Etapa 1</td>\n",
       "      <td>TA-303</td>\n",
       "      <td>Alejandra Pooley Flores</td>\n",
       "      <td>Lilian Harrison</td>\n",
       "      <td>...</td>\n",
       "      <td>NaN</td>\n",
       "      <td>NaN</td>\n",
       "      <td>NaN</td>\n",
       "      <td>Sin Información</td>\n",
       "      <td>Empleado</td>\n",
       "      <td>NaN</td>\n",
       "      <td>NaN</td>\n",
       "      <td>NaN</td>\n",
       "      <td>0.0</td>\n",
       "      <td>NaN</td>\n",
       "    </tr>\n",
       "    <tr>\n",
       "      <th>2017-07-31 11:02:25.760</th>\n",
       "      <td>42263</td>\n",
       "      <td>2017-07-31 11:02:25.760</td>\n",
       "      <td>111766</td>\n",
       "      <td>RECONTACTO</td>\n",
       "      <td>Recontacto</td>\n",
       "      <td>Altos del Valle</td>\n",
       "      <td>ADV - Etapa 1</td>\n",
       "      <td>TA-302,Est-41,Bod-06</td>\n",
       "      <td>Alejandra Pooley Flores</td>\n",
       "      <td>Lilian Harrison</td>\n",
       "      <td>...</td>\n",
       "      <td>NaN</td>\n",
       "      <td>NaN</td>\n",
       "      <td>Chilena</td>\n",
       "      <td>Sin Información</td>\n",
       "      <td>Empleado</td>\n",
       "      <td>a</td>\n",
       "      <td>Sin Información</td>\n",
       "      <td>a</td>\n",
       "      <td>1.0</td>\n",
       "      <td>Empresario</td>\n",
       "    </tr>\n",
       "    <tr>\n",
       "      <th>2017-08-11 16:07:40.227</th>\n",
       "      <td>42379</td>\n",
       "      <td>2017-08-11 16:07:40.227</td>\n",
       "      <td>112677</td>\n",
       "      <td>RECONTACTO</td>\n",
       "      <td>Recontacto</td>\n",
       "      <td>Altos del Valle</td>\n",
       "      <td>ADV - Etapa 1</td>\n",
       "      <td>Bod-01,TA-301,Est-26</td>\n",
       "      <td>Alejandra Pooley Flores</td>\n",
       "      <td>Lilian Harrison</td>\n",
       "      <td>...</td>\n",
       "      <td>NaN</td>\n",
       "      <td>NaN</td>\n",
       "      <td>Chilena</td>\n",
       "      <td>5</td>\n",
       "      <td>Profesional</td>\n",
       "      <td>Matrona</td>\n",
       "      <td>Dependiente</td>\n",
       "      <td>NaN</td>\n",
       "      <td>1.0</td>\n",
       "      <td>Matrona</td>\n",
       "    </tr>\n",
       "    <tr>\n",
       "      <th>2017-08-11 16:13:46.600</th>\n",
       "      <td>42382</td>\n",
       "      <td>2017-08-11 16:13:46.600</td>\n",
       "      <td>112680</td>\n",
       "      <td>RECONTACTO</td>\n",
       "      <td>Recontacto</td>\n",
       "      <td>Altos del Valle</td>\n",
       "      <td>ADV - Etapa 1</td>\n",
       "      <td>Est-17,Est-18</td>\n",
       "      <td>Alejandra Pooley Flores</td>\n",
       "      <td>Lilian Harrison</td>\n",
       "      <td>...</td>\n",
       "      <td>NaN</td>\n",
       "      <td>NaN</td>\n",
       "      <td>Chilena</td>\n",
       "      <td>Sin Información</td>\n",
       "      <td>Profesional</td>\n",
       "      <td>Odontologo</td>\n",
       "      <td>Dependiente</td>\n",
       "      <td>Cesfam Lautaro Caceres</td>\n",
       "      <td>5.0</td>\n",
       "      <td>Odontólogo</td>\n",
       "    </tr>\n",
       "  </tbody>\n",
       "</table>\n",
       "<p>5 rows × 49 columns</p>\n",
       "</div>"
      ],
      "text/plain": [
       "                            ID        Fecha Cotizacion  ID Cotizacion  \\\n",
       "Fecha Cotizacion                                                        \n",
       "2017-07-27 15:46:58.750  42212 2017-07-27 15:46:58.750         111502   \n",
       "2017-07-29 13:42:09.993  42242 2017-07-29 13:42:09.993         111611   \n",
       "2017-07-31 11:02:25.760  42263 2017-07-31 11:02:25.760         111766   \n",
       "2017-08-11 16:07:40.227  42379 2017-08-11 16:07:40.227         112677   \n",
       "2017-08-11 16:13:46.600  42382 2017-08-11 16:13:46.600         112680   \n",
       "\n",
       "                                           Medio Tipo de Medio  \\\n",
       "Fecha Cotizacion                                                 \n",
       "2017-07-27 15:46:58.750  RECORRIDO POR EL SECTOR         Paseo   \n",
       "2017-07-29 13:42:09.993               RECONTACTO    Recontacto   \n",
       "2017-07-31 11:02:25.760               RECONTACTO    Recontacto   \n",
       "2017-08-11 16:07:40.227               RECONTACTO    Recontacto   \n",
       "2017-08-11 16:13:46.600               RECONTACTO    Recontacto   \n",
       "\n",
       "                                Proyecto          Etapa             Productos  \\\n",
       "Fecha Cotizacion                                                                \n",
       "2017-07-27 15:46:58.750  Altos del Valle  ADV - Etapa 1         TB-104,Est-65   \n",
       "2017-07-29 13:42:09.993  Altos del Valle  ADV - Etapa 1                TA-303   \n",
       "2017-07-31 11:02:25.760  Altos del Valle  ADV - Etapa 1  TA-302,Est-41,Bod-06   \n",
       "2017-08-11 16:07:40.227  Altos del Valle  ADV - Etapa 1  Bod-01,TA-301,Est-26   \n",
       "2017-08-11 16:13:46.600  Altos del Valle  ADV - Etapa 1         Est-17,Est-18   \n",
       "\n",
       "                                  Jefe Comercial      Ejecutivo Comercial  \\\n",
       "Fecha Cotizacion                                                            \n",
       "2017-07-27 15:46:58.750  Alejandra Pooley Flores  Graciela Pareja Cancino   \n",
       "2017-07-29 13:42:09.993  Alejandra Pooley Flores          Lilian Harrison   \n",
       "2017-07-31 11:02:25.760  Alejandra Pooley Flores          Lilian Harrison   \n",
       "2017-08-11 16:07:40.227  Alejandra Pooley Flores          Lilian Harrison   \n",
       "2017-08-11 16:13:46.600  Alejandra Pooley Flores          Lilian Harrison   \n",
       "\n",
       "                            ...      Razon Social  Giro  Nacionalidad  \\\n",
       "Fecha Cotizacion            ...                                         \n",
       "2017-07-27 15:46:58.750     ...               NaN   NaN           NaN   \n",
       "2017-07-29 13:42:09.993     ...               NaN   NaN           NaN   \n",
       "2017-07-31 11:02:25.760     ...               NaN   NaN       Chilena   \n",
       "2017-08-11 16:07:40.227     ...               NaN   NaN       Chilena   \n",
       "2017-08-11 16:13:46.600     ...               NaN   NaN       Chilena   \n",
       "\n",
       "                        N° Grupo Familiar    Actividad       Cargo  \\\n",
       "Fecha Cotizacion                                                     \n",
       "2017-07-27 15:46:58.750                 3      Tecnico         NaN   \n",
       "2017-07-29 13:42:09.993   Sin Información     Empleado         NaN   \n",
       "2017-07-31 11:02:25.760   Sin Información     Empleado           a   \n",
       "2017-08-11 16:07:40.227                 5  Profesional     Matrona   \n",
       "2017-08-11 16:13:46.600   Sin Información  Profesional  Odontologo   \n",
       "\n",
       "                        Situacion Laboral               Empleador  \\\n",
       "Fecha Cotizacion                                                    \n",
       "2017-07-27 15:46:58.750               NaN                     NaN   \n",
       "2017-07-29 13:42:09.993               NaN                     NaN   \n",
       "2017-07-31 11:02:25.760   Sin Información                       a   \n",
       "2017-08-11 16:07:40.227       Dependiente                     NaN   \n",
       "2017-08-11 16:13:46.600       Dependiente  Cesfam Lautaro Caceres   \n",
       "\n",
       "                        Antiguedad Laboral   Profesión  \n",
       "Fecha Cotizacion                                        \n",
       "2017-07-27 15:46:58.750                0.0         NaN  \n",
       "2017-07-29 13:42:09.993                0.0         NaN  \n",
       "2017-07-31 11:02:25.760                1.0  Empresario  \n",
       "2017-08-11 16:07:40.227                1.0     Matrona  \n",
       "2017-08-11 16:13:46.600                5.0  Odontólogo  \n",
       "\n",
       "[5 rows x 49 columns]"
      ]
     },
     "execution_count": 241,
     "metadata": {},
     "output_type": "execute_result"
    }
   ],
   "source": [
    "fechas.head()"
   ]
  },
  {
   "cell_type": "code",
   "execution_count": 242,
   "metadata": {},
   "outputs": [
    {
     "data": {
      "text/plain": [
       "array(['Anulada', 'Promesado', 'Reservado', 'Escriturado', 'Entregado'],\n",
       "      dtype=object)"
      ]
     },
     "execution_count": 242,
     "metadata": {},
     "output_type": "execute_result"
    }
   ],
   "source": [
    "neg_all['Estado'].unique()"
   ]
  },
  {
   "cell_type": "code",
   "execution_count": 243,
   "metadata": {},
   "outputs": [
    {
     "data": {
      "text/plain": [
       "array(['Altos del Valle', 'Edificio Junge', 'Edificio Mil610',\n",
       "       'San Andres Del Valle', 'Edificio Urban 1470'], dtype=object)"
      ]
     },
     "execution_count": 243,
     "metadata": {},
     "output_type": "execute_result"
    }
   ],
   "source": [
    "neg_all['Proyecto'].unique()"
   ]
  },
  {
   "cell_type": "code",
   "execution_count": 244,
   "metadata": {},
   "outputs": [
    {
     "data": {
      "text/html": [
       "<div>\n",
       "<style>\n",
       "    .dataframe thead tr:only-child th {\n",
       "        text-align: right;\n",
       "    }\n",
       "\n",
       "    .dataframe thead th {\n",
       "        text-align: left;\n",
       "    }\n",
       "\n",
       "    .dataframe tbody tr th {\n",
       "        vertical-align: top;\n",
       "    }\n",
       "</style>\n",
       "<table border=\"1\" class=\"dataframe\">\n",
       "  <thead>\n",
       "    <tr style=\"text-align: right;\">\n",
       "      <th></th>\n",
       "      <th>ID</th>\n",
       "      <th>ID Cotizacion</th>\n",
       "      <th>Total Productos</th>\n",
       "      <th>Descuentos</th>\n",
       "      <th>Valor Final Venta</th>\n",
       "      <th>Antiguedad Laboral</th>\n",
       "    </tr>\n",
       "    <tr>\n",
       "      <th>Fecha Cotizacion</th>\n",
       "      <th></th>\n",
       "      <th></th>\n",
       "      <th></th>\n",
       "      <th></th>\n",
       "      <th></th>\n",
       "      <th></th>\n",
       "    </tr>\n",
       "  </thead>\n",
       "  <tbody>\n",
       "    <tr>\n",
       "      <th>2013-12-31</th>\n",
       "      <td>1254521</td>\n",
       "      <td>2100424</td>\n",
       "      <td>243055.82</td>\n",
       "      <td>1236.73</td>\n",
       "      <td>241819.09</td>\n",
       "      <td>220.0</td>\n",
       "    </tr>\n",
       "    <tr>\n",
       "      <th>2014-12-31</th>\n",
       "      <td>7092416</td>\n",
       "      <td>11138517</td>\n",
       "      <td>1070289.00</td>\n",
       "      <td>10959.37</td>\n",
       "      <td>1059405.03</td>\n",
       "      <td>617.0</td>\n",
       "    </tr>\n",
       "    <tr>\n",
       "      <th>2015-12-31</th>\n",
       "      <td>16520239</td>\n",
       "      <td>29586067</td>\n",
       "      <td>1804193.46</td>\n",
       "      <td>9709.36</td>\n",
       "      <td>1793802.10</td>\n",
       "      <td>1215.0</td>\n",
       "    </tr>\n",
       "    <tr>\n",
       "      <th>2016-12-31</th>\n",
       "      <td>13663691</td>\n",
       "      <td>30471626</td>\n",
       "      <td>1622798.40</td>\n",
       "      <td>33744.80</td>\n",
       "      <td>1588054.60</td>\n",
       "      <td>1105.0</td>\n",
       "    </tr>\n",
       "    <tr>\n",
       "      <th>2017-12-31</th>\n",
       "      <td>35593612</td>\n",
       "      <td>93296250</td>\n",
       "      <td>3613254.73</td>\n",
       "      <td>37224.51</td>\n",
       "      <td>3576030.22</td>\n",
       "      <td>1871.0</td>\n",
       "    </tr>\n",
       "    <tr>\n",
       "      <th>2018-12-31</th>\n",
       "      <td>16346017</td>\n",
       "      <td>48318115</td>\n",
       "      <td>1592188.32</td>\n",
       "      <td>12605.50</td>\n",
       "      <td>1579582.82</td>\n",
       "      <td>456.0</td>\n",
       "    </tr>\n",
       "  </tbody>\n",
       "</table>\n",
       "</div>"
      ],
      "text/plain": [
       "                        ID  ID Cotizacion  Total Productos  Descuentos  \\\n",
       "Fecha Cotizacion                                                         \n",
       "2013-12-31         1254521        2100424        243055.82     1236.73   \n",
       "2014-12-31         7092416       11138517       1070289.00    10959.37   \n",
       "2015-12-31        16520239       29586067       1804193.46     9709.36   \n",
       "2016-12-31        13663691       30471626       1622798.40    33744.80   \n",
       "2017-12-31        35593612       93296250       3613254.73    37224.51   \n",
       "2018-12-31        16346017       48318115       1592188.32    12605.50   \n",
       "\n",
       "                  Valor Final Venta  Antiguedad Laboral  \n",
       "Fecha Cotizacion                                         \n",
       "2013-12-31                241819.09               220.0  \n",
       "2014-12-31               1059405.03               617.0  \n",
       "2015-12-31               1793802.10              1215.0  \n",
       "2016-12-31               1588054.60              1105.0  \n",
       "2017-12-31               3576030.22              1871.0  \n",
       "2018-12-31               1579582.82               456.0  "
      ]
     },
     "execution_count": 244,
     "metadata": {},
     "output_type": "execute_result"
    }
   ],
   "source": [
    "fechas.resample('A').sum()"
   ]
  },
  {
   "cell_type": "code",
   "execution_count": 245,
   "metadata": {},
   "outputs": [
    {
     "data": {
      "text/plain": [
       "DatetimeIndex(['2017-07-01', '2017-08-01', '2017-09-01', '2017-10-01',\n",
       "               '2017-11-01', '2017-12-01', '2018-01-01', '2018-02-01',\n",
       "               '2018-03-01', '2018-04-01'],\n",
       "              dtype='datetime64[ns]', freq=None)"
      ]
     },
     "execution_count": 245,
     "metadata": {},
     "output_type": "execute_result"
    }
   ],
   "source": [
    "months = fechas.asfreq('M').index.month\n",
    "years = fechas.asfreq('M').index.year\n",
    "index = [\"{}-{}\".format(x,y) for x,y in zip(years,months)]\n",
    "index = pd.to_datetime(index)\n",
    "index"
   ]
  },
  {
   "cell_type": "code",
   "execution_count": 251,
   "metadata": {},
   "outputs": [
    {
     "name": "stdout",
     "output_type": "stream",
     "text": [
      "2013-08-19 18:35:56.620000\n"
     ]
    },
    {
     "data": {
      "text/html": [
       "<iframe id=\"igraph\" scrolling=\"no\" style=\"border:none;\" seamless=\"seamless\" src=\"https://plot.ly/~japinoza/37.embed\" height=\"525px\" width=\"100%\"></iframe>"
      ],
      "text/plain": [
       "<plotly.tools.PlotlyDisplay object>"
      ]
     },
     "execution_count": 251,
     "metadata": {},
     "output_type": "execute_result"
    }
   ],
   "source": [
    "proyecto = 'San Andres Del Valle'\n",
    "periodo = 'A'\n",
    "fecha_ini = '2000-03-01'\n",
    "fecha_fin = '2018-07-01'\n",
    "\n",
    "fechas = fechas[(fechas['Proyecto'] == proyecto)]\n",
    "\n",
    "if pd.to_datetime(fecha_ini) < fechas.index.min():\n",
    "    print(fechas.index.min())\n",
    "    fecha_ini = fechas.index.min()\n",
    "    print(fecha_ini)\n",
    "fechas = fechas.loc[fecha_ini : fecha_fin]\n",
    "# print(fechas['Fecha Cotizacion'].min(), fechas['Fecha Cotizacion'].max())\n",
    "\n",
    "entregado = fechas[(fechas['Estado'] == 'Entregado')]\n",
    "escriturado = fechas[(fechas['Estado'] == 'Escriturado')]\n",
    "reservado = fechas[(fechas['Estado'] == 'Reservado')]\n",
    "promesado = fechas[(fechas['Estado'] == 'Promesado')]\n",
    "anulado = fechas[(fechas['Estado'] == 'Anulada')]\n",
    "\n",
    "entregado = entregado['Total Productos'].resample(periodo).sum()\n",
    "escriturado = escriturado['Total Productos'].resample(periodo).sum()\n",
    "reservado = reservado['Total Productos'].resample(periodo).sum()\n",
    "promesado = promesado['Total Productos'].resample(periodo).sum()\n",
    "anulado = anulado['Total Productos'].resample(periodo).sum()\n",
    "\n",
    "entregado\n",
    "\n",
    "# Create traces\n",
    "\n",
    "trace1 = go.Scatter(\n",
    "    x = index,\n",
    "    y = entregado,\n",
    "    mode = 'lines+markers',\n",
    "    name = 'Entregados'\n",
    ")\n",
    "\n",
    "trace2 = go.Scatter(\n",
    "    x = index,\n",
    "    y = reservado,\n",
    "    mode = 'lines+markers',\n",
    "    name = 'Resevado'\n",
    ")\n",
    "\n",
    "trace3 = go.Scatter(\n",
    "    x = index,\n",
    "    y = promesado,\n",
    "    mode = 'lines+markers',\n",
    "    name = 'Promesado'\n",
    ")\n",
    "\n",
    "trace4 = go.Scatter(\n",
    "    x = index,\n",
    "    y = escriturado,\n",
    "    mode = 'lines+markers',\n",
    "    name = 'Ecriturado'\n",
    ")\n",
    "\n",
    "trace5 = go.Scatter(\n",
    "    x = index,\n",
    "    y = anulado,\n",
    "    mode = 'lines+markers',\n",
    "    name = 'Anulado'\n",
    ")\n",
    "\n",
    "\n",
    "data = [trace1, trace2, trace3, trace4, trace5]\n",
    "\n",
    "# Edit the layout\n",
    "layout = dict(title = 'Total per {}'.format(periodo),\n",
    "              xaxis = dict(title = periodo),\n",
    "              yaxis = dict(title = 'Total (UF)'),\n",
    "              )\n",
    "\n",
    "fig = dict(data=data, layout=layout)\n",
    "py.iplot(fig, filename='styled-line')\n",
    "\n",
    "py.iplot(fig, filename='line-mode')"
   ]
  },
  {
   "cell_type": "code",
   "execution_count": null,
   "metadata": {},
   "outputs": [],
   "source": []
  }
 ],
 "metadata": {
  "kernelspec": {
   "display_name": "Python 3",
   "language": "python",
   "name": "python3"
  },
  "language_info": {
   "codemirror_mode": {
    "name": "ipython",
    "version": 3
   },
   "file_extension": ".py",
   "mimetype": "text/x-python",
   "name": "python",
   "nbconvert_exporter": "python",
   "pygments_lexer": "ipython3",
   "version": "3.6.4"
  }
 },
 "nbformat": 4,
 "nbformat_minor": 2
}
