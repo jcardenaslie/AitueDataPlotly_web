{
 "cells": [
  {
   "cell_type": "code",
   "execution_count": 2,
   "metadata": {},
   "outputs": [],
   "source": [
    "import pandas as pd\n",
    "import numpy as np\n",
    "import seaborn as sns"
   ]
  },
  {
   "cell_type": "code",
   "execution_count": 52,
   "metadata": {},
   "outputs": [],
   "source": [
    "cot_all = pd.read_excel(\"Data/cotizaciones_all.xlsx\")\n",
    "cot_all_plus = pd.read_excel(\"Data/Cotizaciones20181009.xlsx\")\n",
    "prod_all_plus = pd.read_excel(\"Data/Productos.xlsx\")\n",
    "neg_all = pd.read_excel(\"Data/negocios_all.xlsx\")"
   ]
  },
  {
   "cell_type": "code",
   "execution_count": 58,
   "metadata": {},
   "outputs": [
    {
     "data": {
      "text/plain": [
       "26"
      ]
     },
     "execution_count": 58,
     "metadata": {},
     "output_type": "execute_result"
    }
   ],
   "source": [
    "prod_all_plus.Proyecto.nunique()"
   ]
  },
  {
   "cell_type": "code",
   "execution_count": 61,
   "metadata": {},
   "outputs": [],
   "source": [
    "pro_dict = dict()\n",
    "\n",
    "for pro, frame in prod_all_plus.groupby('Proyecto'):\n",
    "    pro_dict[pro] = frame['Tipo Unidad'].tolist()[0] \n",
    "#     print(pro,':', frame['Tipo Unidad'].tolist()[0])"
   ]
  },
  {
   "cell_type": "code",
   "execution_count": 57,
   "metadata": {},
   "outputs": [
    {
     "data": {
      "text/plain": [
       "28"
      ]
     },
     "execution_count": 57,
     "metadata": {},
     "output_type": "execute_result"
    }
   ],
   "source": [
    "cot_all_plus.Proyecto.nunique()"
   ]
  },
  {
   "cell_type": "code",
   "execution_count": 5,
   "metadata": {},
   "outputs": [
    {
     "name": "stdout",
     "output_type": "stream",
     "text": [
      "15\n"
     ]
    }
   ],
   "source": [
    "casas = ['Valle Las Monjas', 'San Andres del Valle', 'Aires de Machali', 'Hacienda Las Cruces', \n",
    "         'Condominio Santa Ana Oriente' ]\n",
    "\n",
    "deptos = ['Edificios Altos del Valle', 'Edificio Ciudad del Parque', 'Edificio Refugio Live', \n",
    "          'Edificio Vivo Huerto', 'Edificio Urban 1470', 'Edificio Mil610','Edificio Uno&Seis', \n",
    "          'Edificio Junge',  'Condominio Santa Ana Oriente']\n",
    "\n",
    "ofi = ['Centro Costanera']\n",
    "\n",
    "print( len(casas) + len(deptos) + len(ofi))"
   ]
  },
  {
   "cell_type": "code",
   "execution_count": 71,
   "metadata": {},
   "outputs": [],
   "source": [
    "def get_inmueble(row):\n",
    "    if row.Proyecto in pro_dict.keys():\n",
    "        return pro_dict[row.Proyecto]\n",
    "    else:\n",
    "        return 'sin información'"
   ]
  },
  {
   "cell_type": "code",
   "execution_count": 74,
   "metadata": {},
   "outputs": [],
   "source": [
    "# cot_all_plus['Inmueble'] = [get_inmueble(x) for x in cot_all_plus.Proyecto]\n",
    "\n",
    "cot_all_plus['Inmueble'] = [get_inmueble(x) for index, x in cot_all_plus.iterrows()]\n"
   ]
  },
  {
   "cell_type": "code",
   "execution_count": 86,
   "metadata": {},
   "outputs": [],
   "source": [
    "cot_all['Inmueble'] = [get_inmueble(x) for index, x in cot_all.iterrows()]\n",
    "neg_all['Inmueble'] = [get_inmueble(x) for index, x in neg_all.iterrows()]"
   ]
  },
  {
   "cell_type": "code",
   "execution_count": 77,
   "metadata": {},
   "outputs": [
    {
     "data": {
      "text/plain": [
       "0     Departamento\n",
       "1     Departamento\n",
       "2     Departamento\n",
       "3     Departamento\n",
       "4     Departamento\n",
       "5     Departamento\n",
       "6     Departamento\n",
       "7     Departamento\n",
       "8     Departamento\n",
       "9     Departamento\n",
       "10    Departamento\n",
       "11    Departamento\n",
       "12    Departamento\n",
       "13    Departamento\n",
       "14    Departamento\n",
       "15    Departamento\n",
       "16    Departamento\n",
       "17    Departamento\n",
       "18    Departamento\n",
       "19    Departamento\n",
       "Name: Inmueble, dtype: object"
      ]
     },
     "execution_count": 77,
     "metadata": {},
     "output_type": "execute_result"
    }
   ],
   "source": [
    "cot_all['Inmueble'].head(20)"
   ]
  },
  {
   "cell_type": "code",
   "execution_count": 80,
   "metadata": {},
   "outputs": [],
   "source": [
    "cot_all.to_csv('Data\\\\cotizaciones_all_new.csv')\n",
    "cot_all.to_excel('Data\\\\cotizaciones_all_new.xlsx')\n",
    "neg_all.to_csv('Data\\\\negocios_all_new.csv')\n",
    "neg_all.to_excel('Data\\\\negocios_all_new.xlsx')"
   ]
  },
  {
   "cell_type": "code",
   "execution_count": 83,
   "metadata": {},
   "outputs": [
    {
     "name": "stderr",
     "output_type": "stream",
     "text": [
      "C:\\ProgramData\\Anaconda3\\lib\\site-packages\\IPython\\core\\interactiveshell.py:2728: DtypeWarning: Columns (32,33) have mixed types. Specify dtype option on import or set low_memory=False.\n",
      "  interactivity=interactivity, compiler=compiler, result=result)\n"
     ]
    }
   ],
   "source": [
    "tmp = pd.read_csv('Data\\\\cotizaciones_all_new.csv', index_col=[0])"
   ]
  },
  {
   "cell_type": "code",
   "execution_count": 84,
   "metadata": {},
   "outputs": [
    {
     "data": {
      "text/html": [
       "<div>\n",
       "<style scoped>\n",
       "    .dataframe tbody tr th:only-of-type {\n",
       "        vertical-align: middle;\n",
       "    }\n",
       "\n",
       "    .dataframe tbody tr th {\n",
       "        vertical-align: top;\n",
       "    }\n",
       "\n",
       "    .dataframe thead th {\n",
       "        text-align: right;\n",
       "    }\n",
       "</style>\n",
       "<table border=\"1\" class=\"dataframe\">\n",
       "  <thead>\n",
       "    <tr style=\"text-align: right;\">\n",
       "      <th></th>\n",
       "      <th>ID</th>\n",
       "      <th>Fecha Cotizacion</th>\n",
       "      <th>Medio</th>\n",
       "      <th>Tipo de Medio</th>\n",
       "      <th>Proyecto</th>\n",
       "      <th>Etapa</th>\n",
       "      <th>Productos</th>\n",
       "      <th>Presencial</th>\n",
       "      <th>Remoto</th>\n",
       "      <th>Jefe Comercial</th>\n",
       "      <th>...</th>\n",
       "      <th>Giro</th>\n",
       "      <th>Nacionalidad</th>\n",
       "      <th>N° Grupo Familiar</th>\n",
       "      <th>Actividad</th>\n",
       "      <th>Cargo</th>\n",
       "      <th>Situacion Laboral</th>\n",
       "      <th>Empleador</th>\n",
       "      <th>Antiguedad Laboral</th>\n",
       "      <th>Profesión</th>\n",
       "      <th>Inmueble</th>\n",
       "    </tr>\n",
       "  </thead>\n",
       "  <tbody>\n",
       "    <tr>\n",
       "      <th>0</th>\n",
       "      <td>111502</td>\n",
       "      <td>2017-07-27 15:46:54.000</td>\n",
       "      <td>RECORRIDO POR EL SECTOR</td>\n",
       "      <td>Paseo</td>\n",
       "      <td>Altos del Valle</td>\n",
       "      <td>ADV - Etapa 1</td>\n",
       "      <td>TB-104,Est-65</td>\n",
       "      <td>Si</td>\n",
       "      <td>No</td>\n",
       "      <td>Alejandra Pooley Flores</td>\n",
       "      <td>...</td>\n",
       "      <td>NaN</td>\n",
       "      <td>NaN</td>\n",
       "      <td>3</td>\n",
       "      <td>Tecnico</td>\n",
       "      <td>NaN</td>\n",
       "      <td>NaN</td>\n",
       "      <td>NaN</td>\n",
       "      <td>0.0</td>\n",
       "      <td>NaN</td>\n",
       "      <td>Departamento</td>\n",
       "    </tr>\n",
       "    <tr>\n",
       "      <th>1</th>\n",
       "      <td>111611</td>\n",
       "      <td>2017-07-29 13:37:05.000</td>\n",
       "      <td>RECONTACTO</td>\n",
       "      <td>Recontacto</td>\n",
       "      <td>Altos del Valle</td>\n",
       "      <td>ADV - Etapa 1</td>\n",
       "      <td>TA-302,Est-41,Bod-02</td>\n",
       "      <td>No</td>\n",
       "      <td>No</td>\n",
       "      <td>Alejandra Pooley Flores</td>\n",
       "      <td>...</td>\n",
       "      <td>NaN</td>\n",
       "      <td>NaN</td>\n",
       "      <td>Sin Información</td>\n",
       "      <td>Empleado</td>\n",
       "      <td>NaN</td>\n",
       "      <td>NaN</td>\n",
       "      <td>NaN</td>\n",
       "      <td>0.0</td>\n",
       "      <td>NaN</td>\n",
       "      <td>Departamento</td>\n",
       "    </tr>\n",
       "    <tr>\n",
       "      <th>2</th>\n",
       "      <td>111629</td>\n",
       "      <td>2017-07-29 16:41:15.000</td>\n",
       "      <td>RECORRIDO POR EL SECTOR</td>\n",
       "      <td>Paseo</td>\n",
       "      <td>Altos del Valle</td>\n",
       "      <td>ADV - Etapa 1</td>\n",
       "      <td>TA-303,Est-01</td>\n",
       "      <td>Si</td>\n",
       "      <td>No</td>\n",
       "      <td>Alejandra Pooley Flores</td>\n",
       "      <td>...</td>\n",
       "      <td>NaN</td>\n",
       "      <td>NaN</td>\n",
       "      <td>3</td>\n",
       "      <td>Empleado</td>\n",
       "      <td>NaN</td>\n",
       "      <td>NaN</td>\n",
       "      <td>NaN</td>\n",
       "      <td>0.0</td>\n",
       "      <td>NaN</td>\n",
       "      <td>Departamento</td>\n",
       "    </tr>\n",
       "    <tr>\n",
       "      <th>3</th>\n",
       "      <td>111766</td>\n",
       "      <td>2017-07-31 11:01:57.000</td>\n",
       "      <td>RECONTACTO</td>\n",
       "      <td>Recontacto</td>\n",
       "      <td>Altos del Valle</td>\n",
       "      <td>ADV - Etapa 1</td>\n",
       "      <td>TA-302,Est-41,Bod-06</td>\n",
       "      <td>No</td>\n",
       "      <td>No</td>\n",
       "      <td>Alejandra Pooley Flores</td>\n",
       "      <td>...</td>\n",
       "      <td>NaN</td>\n",
       "      <td>Chilena</td>\n",
       "      <td>Sin Información</td>\n",
       "      <td>Empleado</td>\n",
       "      <td>a</td>\n",
       "      <td>Sin Información</td>\n",
       "      <td>a</td>\n",
       "      <td>1.0</td>\n",
       "      <td>Empresario</td>\n",
       "      <td>Departamento</td>\n",
       "    </tr>\n",
       "    <tr>\n",
       "      <th>4</th>\n",
       "      <td>111794</td>\n",
       "      <td>2017-07-31 15:52:32.000</td>\n",
       "      <td>RECORRIDO POR EL SECTOR</td>\n",
       "      <td>Paseo</td>\n",
       "      <td>Altos del Valle</td>\n",
       "      <td>ADV - Etapa 1</td>\n",
       "      <td>TA-604,Est-01</td>\n",
       "      <td>Si</td>\n",
       "      <td>No</td>\n",
       "      <td>Alejandra Pooley Flores</td>\n",
       "      <td>...</td>\n",
       "      <td>NaN</td>\n",
       "      <td>Chilena</td>\n",
       "      <td>4</td>\n",
       "      <td>Profesional</td>\n",
       "      <td>NaN</td>\n",
       "      <td>NaN</td>\n",
       "      <td>NaN</td>\n",
       "      <td>0.0</td>\n",
       "      <td>Constructor Civil</td>\n",
       "      <td>Departamento</td>\n",
       "    </tr>\n",
       "  </tbody>\n",
       "</table>\n",
       "<p>5 rows × 42 columns</p>\n",
       "</div>"
      ],
      "text/plain": [
       "       ID         Fecha Cotizacion                    Medio Tipo de Medio  \\\n",
       "0  111502  2017-07-27 15:46:54.000  RECORRIDO POR EL SECTOR         Paseo   \n",
       "1  111611  2017-07-29 13:37:05.000               RECONTACTO    Recontacto   \n",
       "2  111629  2017-07-29 16:41:15.000  RECORRIDO POR EL SECTOR         Paseo   \n",
       "3  111766  2017-07-31 11:01:57.000               RECONTACTO    Recontacto   \n",
       "4  111794  2017-07-31 15:52:32.000  RECORRIDO POR EL SECTOR         Paseo   \n",
       "\n",
       "          Proyecto          Etapa             Productos Presencial Remoto  \\\n",
       "0  Altos del Valle  ADV - Etapa 1         TB-104,Est-65         Si     No   \n",
       "1  Altos del Valle  ADV - Etapa 1  TA-302,Est-41,Bod-02         No     No   \n",
       "2  Altos del Valle  ADV - Etapa 1         TA-303,Est-01         Si     No   \n",
       "3  Altos del Valle  ADV - Etapa 1  TA-302,Est-41,Bod-06         No     No   \n",
       "4  Altos del Valle  ADV - Etapa 1         TA-604,Est-01         Si     No   \n",
       "\n",
       "            Jefe Comercial      ...      Giro  Nacionalidad  \\\n",
       "0  Alejandra Pooley Flores      ...       NaN           NaN   \n",
       "1  Alejandra Pooley Flores      ...       NaN           NaN   \n",
       "2  Alejandra Pooley Flores      ...       NaN           NaN   \n",
       "3  Alejandra Pooley Flores      ...       NaN       Chilena   \n",
       "4  Alejandra Pooley Flores      ...       NaN       Chilena   \n",
       "\n",
       "   N° Grupo Familiar    Actividad Cargo Situacion Laboral Empleador  \\\n",
       "0                  3      Tecnico   NaN               NaN       NaN   \n",
       "1    Sin Información     Empleado   NaN               NaN       NaN   \n",
       "2                  3     Empleado   NaN               NaN       NaN   \n",
       "3    Sin Información     Empleado     a   Sin Información         a   \n",
       "4                  4  Profesional   NaN               NaN       NaN   \n",
       "\n",
       "  Antiguedad Laboral          Profesión      Inmueble  \n",
       "0                0.0                NaN  Departamento  \n",
       "1                0.0                NaN  Departamento  \n",
       "2                0.0                NaN  Departamento  \n",
       "3                1.0         Empresario  Departamento  \n",
       "4                0.0  Constructor Civil  Departamento  \n",
       "\n",
       "[5 rows x 42 columns]"
      ]
     },
     "execution_count": 84,
     "metadata": {},
     "output_type": "execute_result"
    }
   ],
   "source": [
    "tmp.head()"
   ]
  },
  {
   "cell_type": "code",
   "execution_count": 6,
   "metadata": {
    "collapsed": true
   },
   "outputs": [],
   "source": [
    "import plotly.plotly as py\n",
    "import plotly.graph_objs as go\n",
    "import matplotlib.pyplot as plt"
   ]
  },
  {
   "cell_type": "code",
   "execution_count": 5,
   "metadata": {
    "collapsed": true
   },
   "outputs": [],
   "source": [
    "medios = cot_all.groupby('Medio').count()\n",
    "labels = medios.index\n",
    "values = medios.ID.tolist()"
   ]
  },
  {
   "cell_type": "code",
   "execution_count": 6,
   "metadata": {},
   "outputs": [
    {
     "data": {
      "text/html": [
       "<iframe id=\"igraph\" scrolling=\"no\" style=\"border:none;\" seamless=\"seamless\" src=\"https://plot.ly/~jcardenas.lie/12.embed\" height=\"525px\" width=\"100%\"></iframe>"
      ],
      "text/plain": [
       "<plotly.tools.PlotlyDisplay object>"
      ]
     },
     "execution_count": 6,
     "metadata": {},
     "output_type": "execute_result"
    }
   ],
   "source": [
    "# labels = ['Oxygen','Hydrogen','Carbon_Dioxide','Nitrogen']\n",
    "# values = [4500,2500,1053,500]\n",
    "\n",
    "trace = go.Pie(labels=labels, values=values)\n",
    "\n",
    "py.iplot([trace], filename='basic_pie_chart')"
   ]
  },
  {
   "cell_type": "code",
   "execution_count": 7,
   "metadata": {
    "collapsed": true
   },
   "outputs": [],
   "source": [
    "# new_index = cot_all['Fecha Cotizacion'].tolist()\n",
    "cot_fecha = cot_all.set_index('Fecha Cotizacion')\n",
    "cot_fecha['cantidad'] = 1"
   ]
  },
  {
   "cell_type": "code",
   "execution_count": 8,
   "metadata": {},
   "outputs": [
    {
     "data": {
      "image/png": "[encoded data removed]",
      "text/plain": [
       "<Figure size 1080x864 with 1 Axes>"
      ]
     },
     "metadata": {},
     "output_type": "display_data"
    }
   ],
   "source": [
    "f = plt.figure(figsize=(15,12))\n",
    "cot_fecha['cantidad'].resample('M').sum().plot(kind='bar')\n",
    "plt.show()"
   ]
  },
  {
   "cell_type": "code",
   "execution_count": 9,
   "metadata": {},
   "outputs": [
    {
     "data": {
      "text/plain": [
       "array(['Altos del Valle', 'Edificio Junge', 'Edificio Mil610',\n",
       "       'San Andres Del Valle', 'Edificio Urban 1470'], dtype=object)"
      ]
     },
     "execution_count": 9,
     "metadata": {},
     "output_type": "execute_result"
    }
   ],
   "source": [
    "cot_fecha.Proyecto.unique()"
   ]
  },
  {
   "cell_type": "code",
   "execution_count": 10,
   "metadata": {},
   "outputs": [
    {
     "data": {
      "text/plain": [
       "5"
      ]
     },
     "execution_count": 10,
     "metadata": {},
     "output_type": "execute_result"
    }
   ],
   "source": [
    "sdv = cot_fecha[cot_fecha['Proyecto'] == 'San Andres Del Valle']\n",
    "av = cot_fecha[cot_fecha['Proyecto'] == 'Altos del Valle']\n",
    "j = cot_fecha[cot_fecha['Proyecto'] == 'Edificio Junge']\n",
    "mil = cot_fecha[cot_fecha['Proyecto'] == 'Edificio Mil610']\n",
    "u = cot_fecha[cot_fecha['Proyecto'] == 'Edificio Urban 1470']\n",
    "\n",
    "proyectos_df = []\n",
    "proyectos_df.append(sdv)\n",
    "proyectos_df.append(av)\n",
    "proyectos_df.append(j)\n",
    "proyectos_df.append(mil)\n",
    "proyectos_df.append(u)\n",
    "\n",
    "len(proyectos_df)"
   ]
  },
  {
   "cell_type": "code",
   "execution_count": 11,
   "metadata": {},
   "outputs": [
    {
     "name": "stdout",
     "output_type": "stream",
     "text": [
      "[[2013, 2014, 2015, 2016, 2017, 2018], [2017, 2018], [2016, 2017, 2018], [2016, 2017, 2018], [2017, 2018]] [[112, 1791, 2636, 2157, 2586, 1276], [233, 263], [135, 519, 176], [210, 1027, 554], [1817, 1100]]\n",
      "6 6 2 3 3 2\n"
     ]
    }
   ],
   "source": [
    "resample = 'Y'\n",
    "len_cot = cot_fecha.resample(resample).sum().shape[0]\n",
    "\n",
    "proyectos = cot_all.Proyecto.unique()\n",
    "proyectos_time = [ x for x in proyectos]\n",
    "\n",
    "len_sdv = sdv.resample(resample).sum().shape[0]\n",
    "len_av = av.resample(resample).sum().shape[0]\n",
    "len_j = j.resample(resample).sum().shape[0]\n",
    "len_mil = mil.resample(resample).sum().shape[0]\n",
    "len_u = u.resample(resample).sum().shape[0]\n",
    "\n",
    "def get_anios(pro):\n",
    "    return [int(str(x).split('-')[0]) for x in pro.index.tolist()]\n",
    "\n",
    "def get_values(pro):\n",
    "    return [x for x in pro.tolist()]\n",
    "years = []\n",
    "year_values = []\n",
    "\n",
    "[years.append(get_anios(x.resample('Y').sum())) for x in proyectos_df]\n",
    "[year_values.append(x.cantidad.resample('Y').sum().tolist()) for x in proyectos_df]\n",
    "\n",
    "print(years, year_values)\n",
    "print(len_cot, len_sdv, len_av, len_j, len_mil, len_u)"
   ]
  },
  {
   "cell_type": "code",
   "execution_count": 12,
   "metadata": {},
   "outputs": [
    {
     "data": {
      "text/plain": [
       "[{'name': 'pro15',\n",
       "  'type': 'bar',\n",
       "  'x': [2013, 2014, 2015, 2016, 2017, 2018],\n",
       "  'y': [112, 1791, 2636, 2157, 2586, 1276]},\n",
       " {'name': 'pro52',\n",
       "  'type': 'bar',\n",
       "  'x': [2013, 2014, 2015, 2016, 2017, 2018],\n",
       "  'y': [0, 0, 0, 0, 233, 263]},\n",
       " {'name': 'pro77',\n",
       "  'type': 'bar',\n",
       "  'x': [2013, 2014, 2015, 2016, 2017, 2018],\n",
       "  'y': [0, 0, 0, 135, 519, 176]},\n",
       " {'name': 'pro18',\n",
       "  'type': 'bar',\n",
       "  'x': [2013, 2014, 2015, 2016, 2017, 2018],\n",
       "  'y': [0, 0, 0, 135, 519, 176]},\n",
       " {'name': 'pro58',\n",
       "  'type': 'bar',\n",
       "  'x': [2013, 2014, 2015, 2016, 2017, 2018],\n",
       "  'y': [0, 0, 0, 0, 233, 263]}]"
      ]
     },
     "execution_count": 12,
     "metadata": {},
     "output_type": "execute_result"
    }
   ],
   "source": [
    "matriz = []\n",
    "indice = get_anios(cot_fecha.resample('Y').sum())\n",
    "traces = []\n",
    "\n",
    "for y in years:\n",
    "    m = years.index(y)\n",
    "    row = []\n",
    "    for z in indice:\n",
    "        if z in y:\n",
    "            row.append(year_values[m][years[m].index(z)])\n",
    "        else:\n",
    "            pass\n",
    "            row.append(0)\n",
    "    trace = {\n",
    "        'x': indice,\n",
    "        'y': row,\n",
    "        'name': 'pro{}'.format(np.random.randint(100)),\n",
    "        'type': 'bar'\n",
    "    }\n",
    "    traces.append(trace)\n",
    "traces"
   ]
  },
  {
   "cell_type": "code",
   "execution_count": 13,
   "metadata": {
    "collapsed": true
   },
   "outputs": [],
   "source": [
    "# y_data = yearly.tolist()\n",
    "# x_data = [int(str(x).split('-')[0]) for x in yearly.index.tolist()]\n",
    "\n",
    "# proyectos = yearly.unique()"
   ]
  },
  {
   "cell_type": "code",
   "execution_count": 14,
   "metadata": {
    "scrolled": false
   },
   "outputs": [
    {
     "data": {
      "text/html": [
       "<iframe id=\"igraph\" scrolling=\"no\" style=\"border:none;\" seamless=\"seamless\" src=\"https://plot.ly/~jcardenas.lie/18.embed\" height=\"525px\" width=\"100%\"></iframe>"
      ],
      "text/plain": [
       "<plotly.tools.PlotlyDisplay object>"
      ]
     },
     "execution_count": 14,
     "metadata": {},
     "output_type": "execute_result"
    }
   ],
   "source": [
    "data = traces;\n",
    "layout = {\n",
    "  'xaxis': {'title': 'Año'},\n",
    "  'yaxis': {'title': '# Cotizaciones'},\n",
    "  'barmode': 'relative',\n",
    "  'title': 'Cotizaciones por Año'\n",
    "};\n",
    "py.iplot({'data': data, 'layout': layout}, filename='barmode-relative')"
   ]
  },
  {
   "cell_type": "code",
   "execution_count": 24,
   "metadata": {},
   "outputs": [
    {
     "data": {
      "text/html": [
       "<iframe id=\"igraph\" scrolling=\"no\" style=\"border:none;\" seamless=\"seamless\" src=\"https://plot.ly/~jcardenas.lie/20.embed\" height=\"525px\" width=\"100%\"></iframe>"
      ],
      "text/plain": [
       "<plotly.tools.PlotlyDisplay object>"
      ]
     },
     "execution_count": 24,
     "metadata": {},
     "output_type": "execute_result"
    }
   ],
   "source": [
    "import plotly.plotly as py\n",
    "import plotly.graph_objs as go\n",
    "\n",
    "yearly = cot_fecha.cantidad.resample('Y').sum()\n",
    "\n",
    "\n",
    "y_data = yearly.tolist()\n",
    "x_data = [int(str(x).split('-')[0]) for x in yearly.index.tolist()]\n",
    "\n",
    "trace1 = go.Bar(\n",
    "    x = x_data,\n",
    "    y = y_data,\n",
    "    name='Todos los Proyectos',\n",
    "    marker = dict(color='rgb(55, 83, 109)')\n",
    ")\n",
    "\n",
    "data = [trace1]\n",
    "\n",
    "layout = go.Layout(\n",
    "    title='US Export of Plastic Scrap',\n",
    "    xaxis=dict(\n",
    "        tickfont=dict(\n",
    "            size=14,\n",
    "            color='rgb(107, 107, 107)'\n",
    "        )\n",
    "    ),\n",
    "    yaxis=dict(\n",
    "        title='USD (millions)',\n",
    "        titlefont=dict(\n",
    "            size=16,\n",
    "            color='rgb(107, 107, 107)'\n",
    "        ),\n",
    "        tickfont=dict(\n",
    "            size=14,\n",
    "            color='rgb(107, 107, 107)'\n",
    "        )\n",
    "    ),\n",
    "    legend=dict(\n",
    "        x=0,\n",
    "        y=1.0,\n",
    "        bgcolor='rgba(255, 255, 255, 0)',\n",
    "        bordercolor='rgba(255, 255, 255, 0)'\n",
    "    ),\n",
    "    barmode='group',\n",
    "    bargap=0.15,\n",
    "    bargroupgap=0.1\n",
    ")\n",
    "\n",
    "fig = go.Figure(data=data, layout=layout)\n",
    "py.iplot(fig, filename='style-bar')"
   ]
  },
  {
   "cell_type": "code",
   "execution_count": 17,
   "metadata": {
    "scrolled": true
   },
   "outputs": [
    {
     "data": {
      "text/html": [
       "<iframe id=\"igraph\" scrolling=\"no\" style=\"border:none;\" seamless=\"seamless\" src=\"https://plot.ly/~jcardenas.lie/14.embed\" height=\"525px\" width=\"100%\"></iframe>"
      ],
      "text/plain": [
       "<plotly.tools.PlotlyDisplay object>"
      ]
     },
     "execution_count": 17,
     "metadata": {},
     "output_type": "execute_result"
    }
   ],
   "source": [
    "import plotly.plotly as py\n",
    "import plotly.graph_objs as go\n",
    "\n",
    "trace1 = go.Bar(\n",
    "    x=['giraffes', 'orangutans', 'monkeys'],\n",
    "    y=[20, 14, 23],\n",
    "    name='SF Zoo',\n",
    "    orientation = 'v',\n",
    "    marker = dict(\n",
    "        color = 'rgba(246, 78, 139, 0.6)',\n",
    "        line = dict(\n",
    "            color = 'rgba(246, 78, 139, 1.0)',\n",
    "            width = 3)\n",
    "    )\n",
    ")\n",
    "trace2 = go.Bar(\n",
    "    x=['giraffes', 'orangutans', 'monkeys'],\n",
    "    y=[12, 18, 29],\n",
    "    name='LA Zoo',\n",
    "    orientation = 'v',\n",
    "    marker = dict(\n",
    "        color = 'rgba(58, 71, 80, 0.6)',\n",
    "        line = dict(\n",
    "            color = 'rgba(58, 71, 80, 1.0)',\n",
    "            width = 3)\n",
    "    )\n",
    ")\n",
    "\n",
    "data = [trace1, trace2]\n",
    "layout = go.Layout(\n",
    "    barmode='stack'\n",
    ")\n",
    "\n",
    "fig = go.Figure(data=data, layout=layout)\n",
    "py.iplot(fig, filename='marker-h-bar')"
   ]
  },
  {
   "cell_type": "code",
   "execution_count": 18,
   "metadata": {},
   "outputs": [
    {
     "name": "stderr",
     "output_type": "stream",
     "text": [
      "C:\\Users\\joaquin\\Anaconda3\\lib\\site-packages\\seaborn\\categorical.py:1508: FutureWarning:\n",
      "\n",
      "remove_na is deprecated and is a private function. Do not use.\n",
      "\n"
     ]
    },
    {
     "data": {
      "image/png": "[encoded data removed]",
      "text/plain": [
       "<Figure size 864x576 with 1 Axes>"
      ]
     },
     "metadata": {},
     "output_type": "display_data"
    }
   ],
   "source": [
    "plt.figure(figsize=(12,8))\n",
    "sns.countplot(y=\"Medio\",hue='Sexo', data=cot_all, color=\"r\", orient='vertical');\n",
    "plt.show()"
   ]
  },
  {
   "cell_type": "code",
   "execution_count": 19,
   "metadata": {},
   "outputs": [
    {
     "data": {
      "text/plain": [
       "Index(['Medio', 'Tipo de Medio', 'Proyecto', 'Etapa', 'Productos',\n",
       "       'Presencial', 'Remoto', 'Jefe Comercial', 'Ejecutivo Comercial', 'RUT',\n",
       "       'Nombre', 'Apellido 1', 'Apellido 2', 'Nombre Completo', 'Telefono',\n",
       "       'Celular', 'Direccion', 'Region', 'Provincia', 'Comuna',\n",
       "       'Correo Electronico', 'Sexo', 'Estado Civil', 'Rango Edad',\n",
       "       'Tipo Cliente', 'Razon Social', 'Giro', 'Nacionalidad',\n",
       "       'N° Grupo Familiar', 'Actividad', 'Cargo', 'Situacion Laboral',\n",
       "       'Empleador', 'Profesión'],\n",
       "      dtype='object')"
      ]
     },
     "execution_count": 19,
     "metadata": {},
     "output_type": "execute_result"
    }
   ],
   "source": [
    "cot_all.select_dtypes(include='object').columns"
   ]
  },
  {
   "cell_type": "code",
   "execution_count": 20,
   "metadata": {},
   "outputs": [
    {
     "data": {
      "text/html": [
       "<iframe id=\"igraph\" scrolling=\"no\" style=\"border:none;\" seamless=\"seamless\" src=\"https://plot.ly/~jcardenas.lie/22.embed\" height=\"525px\" width=\"100%\"></iframe>"
      ],
      "text/plain": [
       "<plotly.tools.PlotlyDisplay object>"
      ]
     },
     "execution_count": 20,
     "metadata": {},
     "output_type": "execute_result"
    }
   ],
   "source": [
    "max_columns = 10\n",
    "\n",
    "col1 = 'Sexo'\n",
    "col2 = 'Medio'\n",
    "col1_labels = cot_all[col1].unique().tolist()\n",
    "col2_labels = cot_all[col2].unique().tolist()\n",
    "\n",
    "values = [] # list of lists\n",
    "\n",
    "for value2 in col2_labels:\n",
    "    col_values = []\n",
    "    for value1 in col1_labels:\n",
    "        col_values.append(cot_all[(cot_all[col1] == value1) & (cot_all[col2]==value2)]['ID'].count())\n",
    "    values.append(col_values)    \n",
    "values\n",
    "\n",
    "traces = []\n",
    "\n",
    "for l in range(0, len(values)):\n",
    "    trace = go.Bar(\n",
    "        x = col1_labels,\n",
    "        y = values[l],\n",
    "        name = col2_labels[l]\n",
    "    )\n",
    "    traces.append(trace)\n",
    "\n",
    "traces\n",
    "\n",
    "import plotly.plotly as py\n",
    "import plotly.graph_objs as go\n",
    "\n",
    "data = traces\n",
    "layout = go.Layout(\n",
    "#     barmode='group'\n",
    ")\n",
    "\n",
    "fig = go.Figure(data=data, layout=layout)\n",
    "py.iplot(fig, filename='grouped-bar')"
   ]
  },
  {
   "cell_type": "code",
   "execution_count": 21,
   "metadata": {},
   "outputs": [
    {
     "data": {
      "text/html": [
       "<iframe id=\"igraph\" scrolling=\"no\" style=\"border:none;\" seamless=\"seamless\" src=\"https://plot.ly/~jcardenas.lie/22.embed\" height=\"525px\" width=\"100%\"></iframe>"
      ],
      "text/plain": [
       "<plotly.tools.PlotlyDisplay object>"
      ]
     },
     "execution_count": 21,
     "metadata": {},
     "output_type": "execute_result"
    }
   ],
   "source": [
    "cot_all['Fecha Cotizacion'].dtype\n",
    "df = cot_all.groupby([pd.Grouper(key='Fecha Cotizacion', freq='A'), \"Proyecto\"]).count()\n",
    "\n",
    "dates = df.index.get_level_values('Fecha Cotizacion').unique()\n",
    "dates = [str(i) for i in dates]\n",
    "\n",
    "proyectos = cot_all.Proyecto.unique().tolist()\n",
    "data = []\n",
    "for proyecto in proyectos:\n",
    "    proyecto_rows = []\n",
    "    for date in dates:\n",
    "        try:\n",
    "            row = df.loc[(date, proyecto)]\n",
    "#             print(row['Medio'])\n",
    "            proyecto_rows.append(row['Medio'])\n",
    "        except Exception as e:\n",
    "            proyecto_rows.append(0)\n",
    "    \n",
    "    data_trace = go.Bar(\n",
    "        x=dates, y=proyecto_rows, name=proyecto\n",
    "    )\n",
    "    data.append(data_trace)\n",
    "\n",
    "layout = go.Layout(\n",
    "        barmode=\"stack\",\n",
    "        margin=dict(l=40, r=25, b=40, t=0, pad=4),\n",
    "        paper_bgcolor=\"white\",\n",
    "        plot_bgcolor=\"white\",\n",
    "    )\n",
    "\n",
    "fig = go.Figure(data=data, layout=layout)\n",
    "py.iplot(fig, filename='grouped-bar')"
   ]
  },
  {
   "cell_type": "code",
   "execution_count": 22,
   "metadata": {
    "collapsed": true
   },
   "outputs": [],
   "source": [
    "# cot_all['Fecha Cotizacion'] = [x.date() for x in cot_all['Fecha Cotizacion'].tolist()]\n",
    "# cot_fechas = cot_all.set_index('Fecha Cotizacion')\n",
    "\n",
    "# columns = ['ID', 'Proyecto']\n",
    "# cot_fechas= cot_fechas[columns]\n",
    "# cot_fechas['anio'] = [ x.year for x in cot_fechas.index.tolist()]\n",
    "# cot_fechas['mes']= [ x.month for x in cot_fechas.index.tolist()]\n",
    "# cot_fechas['day']= [ x.day for x in cot_fechas.index.tolist()]"
   ]
  },
  {
   "cell_type": "code",
   "execution_count": 9,
   "metadata": {},
   "outputs": [
    {
     "data": {
      "text/html": [
       "<iframe id=\"igraph\" scrolling=\"no\" style=\"border:none;\" seamless=\"seamless\" src=\"https://plot.ly/~jcardenas.lie/20.embed\" height=\"525px\" width=\"100%\"></iframe>"
      ],
      "text/plain": [
       "<plotly.tools.PlotlyDisplay object>"
      ]
     },
     "execution_count": 9,
     "metadata": {},
     "output_type": "execute_result"
    }
   ],
   "source": [
    "import plotly.plotly as py\n",
    "import plotly.graph_objs as go\n",
    "\n",
    "data = []\n",
    "cot_all['count'] = 1\n",
    "cot_all.set_index(pd.to_datetime(cot_all['Fecha Cotizacion']), inplace=True)\n",
    "cot_fecha = cot_all.resample('Y').sum()\n",
    "\n",
    "y = cot_fecha['count'].tolist()\n",
    "x = cot_fecha.index.tolist()\n",
    "\n",
    "trace = go.Bar(\n",
    "    x=x,\n",
    "    y=y,\n",
    "    name='Cotizaciones',\n",
    "    marker=dict(\n",
    "        color='rgb(55, 83, 109)'\n",
    "    )\n",
    ")\n",
    "\n",
    "data.append(trace)\n",
    "\n",
    "neg_all['count'] = 1\n",
    "neg_all.set_index(pd.to_datetime(neg_all['Fecha Cotizacion']), inplace=True)\n",
    "neg_fecha = neg_all.resample('Y').sum()\n",
    "\n",
    "y = neg_fecha['count'].tolist()\n",
    "x = neg_fecha.index.tolist()\n",
    "\n",
    "trace = go.Bar(\n",
    "    x=x,\n",
    "    y=y,\n",
    "    name='Negocios',\n",
    "    marker=dict(\n",
    "        color='rgb(26, 118, 255)'\n",
    "    )\n",
    ")\n",
    "\n",
    "data.append(trace)\n",
    "\n",
    "layout = go.Layout(\n",
    "#         barmode=\"stack\",\n",
    "        margin=dict(l=40, r=25, b=40, t=0, pad=4),\n",
    "        paper_bgcolor=\"white\",\n",
    "        plot_bgcolor=\"white\",\n",
    "    )\n",
    "\n",
    "fig = go.Figure(data=data, layout=layout)\n",
    "py.iplot(fig, filename='style-bar')"
   ]
  },
  {
   "cell_type": "code",
   "execution_count": null,
   "metadata": {
    "collapsed": true
   },
   "outputs": [],
   "source": []
  }
 ],
 "metadata": {
  "kernelspec": {
   "display_name": "Python 3",
   "language": "python",
   "name": "python3"
  },
  "language_info": {
   "codemirror_mode": {
    "name": "ipython",
    "version": 3
   },
   "file_extension": ".py",
   "mimetype": "text/x-python",
   "name": "python",
   "nbconvert_exporter": "python",
   "pygments_lexer": "ipython3",
   "version": "3.6.4"
  }
 },
 "nbformat": 4,
 "nbformat_minor": 2
}
