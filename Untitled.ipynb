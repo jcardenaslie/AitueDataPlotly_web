{
 "cells": [
  {
   "cell_type": "code",
   "execution_count": 1,
   "metadata": {
    "collapsed": true
   },
   "outputs": [],
   "source": [
    "import pandas as pd"
   ]
  },
  {
   "cell_type": "code",
   "execution_count": 31,
   "metadata": {
    "collapsed": true
   },
   "outputs": [],
   "source": [
    "cot_all = pd.read_excel(\"cotizaciones_all.xlsx\")"
   ]
  },
  {
   "cell_type": "code",
   "execution_count": 3,
   "metadata": {
    "collapsed": true
   },
   "outputs": [],
   "source": [
    "import plotly.plotly as py\n",
    "import plotly.graph_objs as go"
   ]
  },
  {
   "cell_type": "code",
   "execution_count": 8,
   "metadata": {},
   "outputs": [],
   "source": [
    "medios = cot_all.groupby('Medio').count()\n",
    "labels = medios.index\n",
    "values = medios.ID.tolist()"
   ]
  },
  {
   "cell_type": "code",
   "execution_count": 9,
   "metadata": {},
   "outputs": [
    {
     "data": {
      "text/html": [
       "<iframe id=\"igraph\" scrolling=\"no\" style=\"border:none;\" seamless=\"seamless\" src=\"https://plot.ly/~jcardenas.lie/12.embed\" height=\"525px\" width=\"100%\"></iframe>"
      ],
      "text/plain": [
       "<plotly.tools.PlotlyDisplay object>"
      ]
     },
     "execution_count": 9,
     "metadata": {},
     "output_type": "execute_result"
    }
   ],
   "source": [
    "# labels = ['Oxygen','Hydrogen','Carbon_Dioxide','Nitrogen']\n",
    "# values = [4500,2500,1053,500]\n",
    "\n",
    "trace = go.Pie(labels=labels, values=values)\n",
    "\n",
    "py.iplot([trace], filename='basic_pie_chart')"
   ]
  },
  {
   "cell_type": "code",
   "execution_count": 105,
   "metadata": {},
   "outputs": [],
   "source": [
    "# new_index = cot_all['Fecha Cotizacion'].tolist()\n",
    "cot_fecha = cot_all.set_index('Fecha Cotizacion')\n",
    "cot_fecha['cantidad'] = 1"
   ]
  },
  {
   "cell_type": "code",
   "execution_count": 106,
   "metadata": {},
   "outputs": [
    {
     "data": {
      "image/png": "[encoded data removed]",
      "text/plain": [
       "<Figure size 1080x864 with 1 Axes>"
      ]
     },
     "metadata": {},
     "output_type": "display_data"
    }
   ],
   "source": [
    "f = plt.figure(figsize=(15,12))\n",
    "cot_fecha['cantidad'].resample('M').sum().plot(kind='bar')\n",
    "plt.show()"
   ]
  },
  {
   "cell_type": "code",
   "execution_count": 177,
   "metadata": {},
   "outputs": [
    {
     "data": {
      "text/plain": [
       "array(['Altos del Valle', 'Edificio Junge', 'Edificio Mil610',\n",
       "       'San Andres Del Valle', 'Edificio Urban 1470'], dtype=object)"
      ]
     },
     "execution_count": 177,
     "metadata": {},
     "output_type": "execute_result"
    }
   ],
   "source": [
    "cot_fecha.Proyecto.unique()"
   ]
  },
  {
   "cell_type": "code",
   "execution_count": 193,
   "metadata": {},
   "outputs": [
    {
     "data": {
      "text/plain": [
       "5"
      ]
     },
     "execution_count": 193,
     "metadata": {},
     "output_type": "execute_result"
    }
   ],
   "source": [
    "sdv = cot_fecha[cot_fecha['Proyecto'] == 'San Andres Del Valle']\n",
    "av = cot_fecha[cot_fecha['Proyecto'] == 'Altos del Valle']\n",
    "j = cot_fecha[cot_fecha['Proyecto'] == 'Edificio Junge']\n",
    "mil = cot_fecha[cot_fecha['Proyecto'] == 'Edificio Mil610']\n",
    "u = cot_fecha[cot_fecha['Proyecto'] == 'Edificio Urban 1470']\n",
    "\n",
    "proyectos_df = []\n",
    "proyectos_df.append(sdv)\n",
    "proyectos_df.append(av)\n",
    "proyectos_df.append(j)\n",
    "proyectos_df.append(mil)\n",
    "proyectos_df.append(u)\n",
    "\n",
    "len(proyectos_df)"
   ]
  },
  {
   "cell_type": "code",
   "execution_count": 255,
   "metadata": {},
   "outputs": [
    {
     "name": "stdout",
     "output_type": "stream",
     "text": [
      "[[2013, 2014, 2015, 2016, 2017, 2018], [2017, 2018], [2016, 2017, 2018], [2016, 2017, 2018], [2017, 2018]] [[112, 1791, 2636, 2157, 2586, 1276], [233, 263], [135, 519, 176], [210, 1027, 554], [1817, 1100]]\n",
      "6 6 2 3 3 2\n"
     ]
    }
   ],
   "source": [
    "len_cot = cot_fecha.resample('Y').sum().shape[0]\n",
    "len_sdv = sdv.resample('Y').sum().shape[0]\n",
    "len_av = av.resample('Y').sum().shape[0]\n",
    "len_j = j.resample('Y').sum().shape[0]\n",
    "len_mil = mil.resample('Y').sum().shape[0]\n",
    "len_u = u.resample('Y').sum().shape[0]\n",
    "\n",
    "def get_anios(pro):\n",
    "    return [int(str(x).split('-')[0]) for x in pro.index.tolist()]\n",
    "\n",
    "def get_values(pro):\n",
    "    return [x for x in pro.tolist()]\n",
    "years = []\n",
    "year_values = []\n",
    "\n",
    "[years.append(get_anios(x.resample('Y').sum())) for x in proyectos_df]\n",
    "[year_values.append(x.cantidad.resample('Y').sum().tolist()) for x in proyectos_df]\n",
    "\n",
    "print(years, year_values)\n",
    "print(len_cot, len_sdv, len_av, len_j, len_mil, len_u)"
   ]
  },
  {
   "cell_type": "code",
   "execution_count": 256,
   "metadata": {},
   "outputs": [
    {
     "data": {
      "text/plain": [
       "[{'name': 'pro30',\n",
       "  'type': 'bar',\n",
       "  'x': [2013, 2014, 2015, 2016, 2017, 2018],\n",
       "  'y': [112, 1791, 2636, 2157, 2586, 1276]},\n",
       " {'name': 'pro34',\n",
       "  'type': 'bar',\n",
       "  'x': [2013, 2014, 2015, 2016, 2017, 2018],\n",
       "  'y': [0, 0, 0, 0, 233, 263]},\n",
       " {'name': 'pro39',\n",
       "  'type': 'bar',\n",
       "  'x': [2013, 2014, 2015, 2016, 2017, 2018],\n",
       "  'y': [0, 0, 0, 135, 519, 176]},\n",
       " {'name': 'pro13',\n",
       "  'type': 'bar',\n",
       "  'x': [2013, 2014, 2015, 2016, 2017, 2018],\n",
       "  'y': [0, 0, 0, 135, 519, 176]},\n",
       " {'name': 'pro0',\n",
       "  'type': 'bar',\n",
       "  'x': [2013, 2014, 2015, 2016, 2017, 2018],\n",
       "  'y': [0, 0, 0, 0, 233, 263]}]"
      ]
     },
     "execution_count": 256,
     "metadata": {},
     "output_type": "execute_result"
    }
   ],
   "source": [
    "matriz = []\n",
    "indice = get_anios(cot_fecha.resample('Y').sum())\n",
    "traces = []\n",
    "\n",
    "for y in years:\n",
    "    m = year.index(y)\n",
    "    row = []\n",
    "    for z in indice:\n",
    "        if z in y:\n",
    "            row.append(year_values[m][years[m].index(z)])\n",
    "        else:\n",
    "            pass\n",
    "            row.append(0)\n",
    "    trace = {\n",
    "        'x': indice,\n",
    "        'y': row,\n",
    "        'name': 'pro{}'.format(np.random.randint(100)),\n",
    "        'type': 'bar'\n",
    "    }\n",
    "    traces.append(trace)\n",
    "traces"
   ]
  },
  {
   "cell_type": "code",
   "execution_count": 257,
   "metadata": {
    "collapsed": true
   },
   "outputs": [],
   "source": [
    "y_data = yearly.tolist()\n",
    "x_data = [int(str(x).split('-')[0]) for x in yearly.index.tolist()]\n",
    "\n",
    "proyectos = yearly.unique()"
   ]
  },
  {
   "cell_type": "code",
   "execution_count": 258,
   "metadata": {
    "scrolled": false
   },
   "outputs": [
    {
     "data": {
      "text/html": [
       "<iframe id=\"igraph\" scrolling=\"no\" style=\"border:none;\" seamless=\"seamless\" src=\"https://plot.ly/~jcardenas.lie/18.embed\" height=\"525px\" width=\"100%\"></iframe>"
      ],
      "text/plain": [
       "<plotly.tools.PlotlyDisplay object>"
      ]
     },
     "execution_count": 258,
     "metadata": {},
     "output_type": "execute_result"
    }
   ],
   "source": [
    "data = traces;\n",
    "layout = {\n",
    "  'xaxis': {'title': 'Año'},\n",
    "  'yaxis': {'title': '# Cotizaciones'},\n",
    "  'barmode': 'relative',\n",
    "  'title': 'Cotizaciones por Año'\n",
    "};\n",
    "py.iplot({'data': data, 'layout': layout}, filename='barmode-relative')"
   ]
  },
  {
   "cell_type": "code",
   "execution_count": 263,
   "metadata": {
    "collapsed": true
   },
   "outputs": [],
   "source": [
    "import plotly.plotly as py\n",
    "import plotly.graph_objs as go\n",
    "\n",
    "yearly = cot_fecha.cantidad.resample('Y').sum()\n",
    "\n",
    "\n",
    "y_data = yearly.tolist()\n",
    "x_data = [int(str(x).split('-')[0]) for x in yearly.index.tolist()]"
   ]
  },
  {
   "cell_type": "code",
   "execution_count": 264,
   "metadata": {},
   "outputs": [
    {
     "data": {
      "text/html": [
       "<iframe id=\"igraph\" scrolling=\"no\" style=\"border:none;\" seamless=\"seamless\" src=\"https://plot.ly/~jcardenas.lie/20.embed\" height=\"525px\" width=\"100%\"></iframe>"
      ],
      "text/plain": [
       "<plotly.tools.PlotlyDisplay object>"
      ]
     },
     "execution_count": 264,
     "metadata": {},
     "output_type": "execute_result"
    }
   ],
   "source": [
    "trace1 = go.Bar(\n",
    "    x = x_data,\n",
    "    y = y_data,\n",
    "    name='Todos los Proyectos',\n",
    "    marker = dict(color='rgb(55, 83, 109)')\n",
    ")\n",
    "\n",
    "data = [trace1]\n",
    "\n",
    "layout = go.Layout(\n",
    "    title='US Export of Plastic Scrap',\n",
    "    xaxis=dict(\n",
    "        tickfont=dict(\n",
    "            size=14,\n",
    "            color='rgb(107, 107, 107)'\n",
    "        )\n",
    "    ),\n",
    "    yaxis=dict(\n",
    "        title='USD (millions)',\n",
    "        titlefont=dict(\n",
    "            size=16,\n",
    "            color='rgb(107, 107, 107)'\n",
    "        ),\n",
    "        tickfont=dict(\n",
    "            size=14,\n",
    "            color='rgb(107, 107, 107)'\n",
    "        )\n",
    "    ),\n",
    "    legend=dict(\n",
    "        x=0,\n",
    "        y=1.0,\n",
    "        bgcolor='rgba(255, 255, 255, 0)',\n",
    "        bordercolor='rgba(255, 255, 255, 0)'\n",
    "    ),\n",
    "    barmode='group',\n",
    "    bargap=0.15,\n",
    "    bargroupgap=0.1\n",
    ")\n",
    "\n",
    "fig = go.Figure(data=data, layout=layout)\n",
    "py.iplot(fig, filename='style-bar')"
   ]
  },
  {
   "cell_type": "code",
   "execution_count": 41,
   "metadata": {},
   "outputs": [
    {
     "data": {
      "text/html": [
       "<iframe id=\"igraph\" scrolling=\"no\" style=\"border:none;\" seamless=\"seamless\" src=\"https://plot.ly/~jcardenas.lie/14.embed\" height=\"525px\" width=\"100%\"></iframe>"
      ],
      "text/plain": [
       "<plotly.tools.PlotlyDisplay object>"
      ]
     },
     "execution_count": 41,
     "metadata": {},
     "output_type": "execute_result"
    }
   ],
   "source": [
    "import plotly.plotly as py\n",
    "import plotly.graph_objs as go\n",
    "\n",
    "trace1 = go.Bar(\n",
    "    x=['giraffes', 'orangutans', 'monkeys'],\n",
    "    y=[20, 14, 23],\n",
    "    name='SF Zoo',\n",
    "    orientation = 'v',\n",
    "    marker = dict(\n",
    "        color = 'rgba(246, 78, 139, 0.6)',\n",
    "        line = dict(\n",
    "            color = 'rgba(246, 78, 139, 1.0)',\n",
    "            width = 3)\n",
    "    )\n",
    ")\n",
    "trace2 = go.Bar(\n",
    "    x=['giraffes', 'orangutans', 'monkeys'],\n",
    "    y=[12, 18, 29],\n",
    "    name='LA Zoo',\n",
    "    orientation = 'v',\n",
    "    marker = dict(\n",
    "        color = 'rgba(58, 71, 80, 0.6)',\n",
    "        line = dict(\n",
    "            color = 'rgba(58, 71, 80, 1.0)',\n",
    "            width = 3)\n",
    "    )\n",
    ")\n",
    "\n",
    "data = [trace1, trace2]\n",
    "layout = go.Layout(\n",
    "    barmode='stack'\n",
    ")\n",
    "\n",
    "fig = go.Figure(data=data, layout=layout)\n",
    "py.iplot(fig, filename='marker-h-bar')"
   ]
  }
 ],
 "metadata": {
  "kernelspec": {
   "display_name": "Python 3",
   "language": "python",
   "name": "python3"
  },
  "language_info": {
   "codemirror_mode": {
    "name": "ipython",
    "version": 3
   },
   "file_extension": ".py",
   "mimetype": "text/x-python",
   "name": "python",
   "nbconvert_exporter": "python",
   "pygments_lexer": "ipython3",
   "version": "3.6.3"
  }
 },
 "nbformat": 4,
 "nbformat_minor": 2
}
